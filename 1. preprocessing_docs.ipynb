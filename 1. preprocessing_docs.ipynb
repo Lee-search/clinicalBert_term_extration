{
 "cells": [
  {
   "cell_type": "code",
   "execution_count": 32,
   "id": "52008932-c17e-48a8-a269-6fe68e696532",
   "metadata": {},
   "outputs": [
    {
     "name": "stdout",
     "output_type": "stream",
     "text": [
      "['./ClinicalTrials.2021-04-27.part1/NCT0081xxxx/NCT00811187.xml\\n', './ClinicalTrials.2021-04-27.part1/NCT0081xxxx/NCT00816738.xml\\n', './ClinicalTrials.2021-04-27.part1/NCT0081xxxx/NCT00819611.xml\\n', './ClinicalTrials.2021-04-27.part1/NCT0081xxxx/NCT00812552.xml\\n', './ClinicalTrials.2021-04-27.part1/NCT0081xxxx/NCT00811460.xml\\n', './ClinicalTrials.2021-04-27.part1/NCT0081xxxx/NCT00818493.xml\\n', './ClinicalTrials.2021-04-27.part1/NCT0081xxxx/NCT00819650.xml\\n', './ClinicalTrials.2021-04-27.part1/NCT0081xxxx/NCT00812123.xml\\n', './ClinicalTrials.2021-04-27.part1/NCT0081xxxx/NCT00819468.xml\\n', './ClinicalTrials.2021-04-27.part1/NCT0081xxxx/NCT00812812.xml\\n']\n"
     ]
    }
   ],
   "source": [
    "# 파일 목록 로드\n",
    "f_path = \".../TREC-CT/\"\n",
    "\n",
    "with open(f_path + 'filelist', 'r') as f:\n",
    "    f_list = f.readlines()\n",
    "\n",
    "print(f_list[:10])"
   ]
  },
  {
   "cell_type": "code",
   "execution_count": 59,
   "id": "88c9c706-77d1-4297-9811-532f8d573064",
   "metadata": {},
   "outputs": [],
   "source": [
    "import xml.etree.ElementTree as ET\n",
    "f_path = \".../CTs-processed-v1/\"\n",
    "\n",
    "# 도큐먼트 로드\n",
    "for i in range(100):\n",
    "    doc_path = f_path + f_list[i][1:-1]\n",
    "    with open(doc_path, 'r', encoding='UTF8') as i_f:\n",
    "        doc = ET.parse(i_f)\n",
    "    doc = doc.getroot()\n",
    "    \n",
    "    ncd_id = doc.find('nct_id').text\n",
    "    title = doc.find('brief_title').text\n",
    "    summary = doc.find('brief_summary').text\n",
    "    desc = doc.find('detailed_description').text\n",
    "    condition = doc.find('condition').text\n",
    "    in_criteria = doc.find('inclusion_criteria').text\n",
    "    ex_criteria = doc.find('exclusion_criteria').text\n",
    "    \n",
    "    t_list = [title, summary, desc, condition, in_criteria, ex_criteria]\n",
    "    # If Non-type object can be detected, change non -> ''\n",
    "    text = ' '.join(filter(lambda x: x if x is not None else '', t_list))\n",
    "    \n",
    "    o_path = 'datasets/' + ncd_id + '.txt'\n",
    "    with open(o_path, 'w') as o_f:\n",
    "        o_f.write(text)"
   ]
  }
 ],
 "metadata": {
  "kernelspec": {
   "display_name": "Python 3",
   "language": "python",
   "name": "python3"
  },
  "language_info": {
   "codemirror_mode": {
    "name": "ipython",
    "version": 3
   },
   "file_extension": ".py",
   "mimetype": "text/x-python",
   "name": "python",
   "nbconvert_exporter": "python",
   "pygments_lexer": "ipython3",
   "version": "3.6.13"
  }
 },
 "nbformat": 4,
 "nbformat_minor": 5
}
